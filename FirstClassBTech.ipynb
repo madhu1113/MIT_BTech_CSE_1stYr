{
 "cells": [
  {
   "cell_type": "code",
   "execution_count": 12,
   "id": "35acc7a9-0cf7-4927-8913-432b2df7a5f3",
   "metadata": {},
   "outputs": [],
   "source": [
    "name = \"Gaurav\""
   ]
  },
  {
   "cell_type": "code",
   "execution_count": 14,
   "id": "584ef3c2-3c4a-4cda-9261-ddcf693bc7c9",
   "metadata": {},
   "outputs": [
    {
     "data": {
      "text/plain": [
       "'Gaurav'"
      ]
     },
     "execution_count": 14,
     "metadata": {},
     "output_type": "execute_result"
    }
   ],
   "source": [
    "name"
   ]
  },
  {
   "cell_type": "code",
   "execution_count": 16,
   "id": "5d2355db-0a33-44dc-abbf-1d8598d20da3",
   "metadata": {},
   "outputs": [
    {
     "data": {
      "text/plain": [
       "str"
      ]
     },
     "execution_count": 16,
     "metadata": {},
     "output_type": "execute_result"
    }
   ],
   "source": [
    "type(name)"
   ]
  },
  {
   "cell_type": "code",
   "execution_count": 18,
   "id": "b67a7bb4-d565-47ac-9a43-91d32b39faaa",
   "metadata": {},
   "outputs": [],
   "source": [
    "a =2"
   ]
  },
  {
   "cell_type": "code",
   "execution_count": 20,
   "id": "2d81de2f-dc57-43c0-9303-645e1b2c698e",
   "metadata": {},
   "outputs": [
    {
     "data": {
      "text/plain": [
       "int"
      ]
     },
     "execution_count": 20,
     "metadata": {},
     "output_type": "execute_result"
    }
   ],
   "source": [
    "type(a)"
   ]
  },
  {
   "cell_type": "code",
   "execution_count": 22,
   "id": "92757527-15eb-435b-93a7-55030f1ccfbd",
   "metadata": {},
   "outputs": [],
   "source": [
    "ksdnskj = 5.889"
   ]
  },
  {
   "cell_type": "code",
   "execution_count": 24,
   "id": "38f2d99f-06fe-4368-a978-a4ee7cbd95b6",
   "metadata": {},
   "outputs": [
    {
     "data": {
      "text/plain": [
       "5.889"
      ]
     },
     "execution_count": 24,
     "metadata": {},
     "output_type": "execute_result"
    }
   ],
   "source": [
    "ksdnskj"
   ]
  },
  {
   "cell_type": "code",
   "execution_count": 28,
   "id": "b471ec22-8588-458e-9db6-638dae0e19ed",
   "metadata": {},
   "outputs": [
    {
     "data": {
      "text/plain": [
       "float"
      ]
     },
     "execution_count": 28,
     "metadata": {},
     "output_type": "execute_result"
    }
   ],
   "source": [
    "type(ksdnskj)"
   ]
  },
  {
   "cell_type": "code",
   "execution_count": 32,
   "id": "f88aad4a-cce7-4741-b835-77f731a78ce0",
   "metadata": {},
   "outputs": [],
   "source": [
    "a = \"b\""
   ]
  },
  {
   "cell_type": "code",
   "execution_count": 34,
   "id": "1e1e30ea-3320-4d78-b21e-ac72fc0fd8aa",
   "metadata": {},
   "outputs": [
    {
     "data": {
      "text/plain": [
       "str"
      ]
     },
     "execution_count": 34,
     "metadata": {},
     "output_type": "execute_result"
    }
   ],
   "source": [
    "type(a)"
   ]
  },
  {
   "cell_type": "code",
   "execution_count": 36,
   "id": "04879238-ea5d-49b7-80a5-9cbde00f92ec",
   "metadata": {},
   "outputs": [],
   "source": [
    "a = -94875984"
   ]
  },
  {
   "cell_type": "code",
   "execution_count": 38,
   "id": "973a2bc8-9ef7-47d4-9fac-e84576842b00",
   "metadata": {},
   "outputs": [
    {
     "data": {
      "text/plain": [
       "int"
      ]
     },
     "execution_count": 38,
     "metadata": {},
     "output_type": "execute_result"
    }
   ],
   "source": [
    "type(a)"
   ]
  },
  {
   "cell_type": "code",
   "execution_count": 40,
   "id": "900b0d27-8e08-4e7f-bae3-5b61dd74ce77",
   "metadata": {},
   "outputs": [
    {
     "data": {
      "text/plain": [
       "-94875984"
      ]
     },
     "execution_count": 40,
     "metadata": {},
     "output_type": "execute_result"
    }
   ],
   "source": [
    "a"
   ]
  },
  {
   "cell_type": "code",
   "execution_count": 44,
   "id": "435d7263-0cf0-4055-b7bc-73e780454799",
   "metadata": {},
   "outputs": [],
   "source": [
    "a = 8+4j"
   ]
  },
  {
   "cell_type": "code",
   "execution_count": 46,
   "id": "f35ad3e9-06b3-414e-a9e1-8c650661cfd3",
   "metadata": {},
   "outputs": [
    {
     "data": {
      "text/plain": [
       "complex"
      ]
     },
     "execution_count": 46,
     "metadata": {},
     "output_type": "execute_result"
    }
   ],
   "source": [
    "type(a)"
   ]
  },
  {
   "cell_type": "code",
   "execution_count": 48,
   "id": "e6d24453-16e7-4948-b3b0-8225f813beab",
   "metadata": {},
   "outputs": [
    {
     "data": {
      "text/plain": [
       "(16+8j)"
      ]
     },
     "execution_count": 48,
     "metadata": {},
     "output_type": "execute_result"
    }
   ],
   "source": [
    "a+a"
   ]
  },
  {
   "cell_type": "code",
   "execution_count": 50,
   "id": "a6610975-d884-4f54-ac96-e79426af5b02",
   "metadata": {},
   "outputs": [
    {
     "data": {
      "text/plain": [
       "(8+4j)"
      ]
     },
     "execution_count": 50,
     "metadata": {},
     "output_type": "execute_result"
    }
   ],
   "source": [
    "a"
   ]
  },
  {
   "cell_type": "code",
   "execution_count": 52,
   "id": "272541a0-a9c1-4ce4-9725-d57b7994c9ff",
   "metadata": {},
   "outputs": [
    {
     "data": {
      "text/plain": [
       "0j"
      ]
     },
     "execution_count": 52,
     "metadata": {},
     "output_type": "execute_result"
    }
   ],
   "source": [
    "a-a"
   ]
  },
  {
   "cell_type": "code",
   "execution_count": 54,
   "id": "274baafe-6303-4468-9114-bdd24b7396a9",
   "metadata": {},
   "outputs": [
    {
     "data": {
      "text/plain": [
       "(48+64j)"
      ]
     },
     "execution_count": 54,
     "metadata": {},
     "output_type": "execute_result"
    }
   ],
   "source": [
    "a*a"
   ]
  },
  {
   "cell_type": "code",
   "execution_count": 56,
   "id": "5a564469-7ad0-4d71-b46f-7479d84315b1",
   "metadata": {},
   "outputs": [
    {
     "data": {
      "text/plain": [
       "(1+0j)"
      ]
     },
     "execution_count": 56,
     "metadata": {},
     "output_type": "execute_result"
    }
   ],
   "source": [
    "a/a"
   ]
  },
  {
   "cell_type": "code",
   "execution_count": 58,
   "id": "beb49544-7e06-48ae-a085-8b5f49542fd6",
   "metadata": {},
   "outputs": [
    {
     "data": {
      "text/plain": [
       "2"
      ]
     },
     "execution_count": 58,
     "metadata": {},
     "output_type": "execute_result"
    }
   ],
   "source": [
    "1+1"
   ]
  },
  {
   "cell_type": "code",
   "execution_count": 60,
   "id": "637d564a-fa27-4930-b8d1-3c36f981b74c",
   "metadata": {},
   "outputs": [
    {
     "data": {
      "text/plain": [
       "0"
      ]
     },
     "execution_count": 60,
     "metadata": {},
     "output_type": "execute_result"
    }
   ],
   "source": [
    "True-True"
   ]
  },
  {
   "cell_type": "code",
   "execution_count": 62,
   "id": "8996845f-c882-4bfb-9b47-b2fe80cde475",
   "metadata": {},
   "outputs": [
    {
     "data": {
      "text/plain": [
       "-1"
      ]
     },
     "execution_count": 62,
     "metadata": {},
     "output_type": "execute_result"
    }
   ],
   "source": [
    "False-True"
   ]
  },
  {
   "cell_type": "code",
   "execution_count": 64,
   "id": "d24d95ac-9b9b-4911-a95d-0ae8952007e1",
   "metadata": {},
   "outputs": [
    {
     "data": {
      "text/plain": [
       "1"
      ]
     },
     "execution_count": 64,
     "metadata": {},
     "output_type": "execute_result"
    }
   ],
   "source": [
    "True-False"
   ]
  },
  {
   "cell_type": "code",
   "execution_count": 66,
   "id": "02a0f5b7-7b76-4ba0-8145-5842a482bfd4",
   "metadata": {},
   "outputs": [
    {
     "data": {
      "text/plain": [
       "0.0"
      ]
     },
     "execution_count": 66,
     "metadata": {},
     "output_type": "execute_result"
    }
   ],
   "source": [
    "False/True"
   ]
  },
  {
   "cell_type": "code",
   "execution_count": 68,
   "id": "928c993d-9b3a-4010-9d1a-dc215ef8afef",
   "metadata": {},
   "outputs": [
    {
     "ename": "ZeroDivisionError",
     "evalue": "division by zero",
     "output_type": "error",
     "traceback": [
      "\u001b[1;31m---------------------------------------------------------------------------\u001b[0m",
      "\u001b[1;31mZeroDivisionError\u001b[0m                         Traceback (most recent call last)",
      "Cell \u001b[1;32mIn[68], line 1\u001b[0m\n\u001b[1;32m----> 1\u001b[0m \u001b[38;5;28;01mTrue\u001b[39;00m\u001b[38;5;241m/\u001b[39m\u001b[38;5;28;01mFalse\u001b[39;00m\n",
      "\u001b[1;31mZeroDivisionError\u001b[0m: division by zero"
     ]
    }
   ],
   "source": [
    "True/False"
   ]
  },
  {
   "cell_type": "code",
   "execution_count": 70,
   "id": "e041ff99-bceb-4878-a6cf-2aa31bbadabf",
   "metadata": {},
   "outputs": [],
   "source": [
    "name = \"Indra Verma\""
   ]
  },
  {
   "cell_type": "code",
   "execution_count": 72,
   "id": "d1359a9f-c53d-4eec-adec-eb3998f5b049",
   "metadata": {},
   "outputs": [
    {
     "data": {
      "text/plain": [
       "'Indra Verma'"
      ]
     },
     "execution_count": 72,
     "metadata": {},
     "output_type": "execute_result"
    }
   ],
   "source": [
    "name"
   ]
  },
  {
   "cell_type": "code",
   "execution_count": 74,
   "id": "0fd2f57b-bbd8-4896-8233-717536413cf9",
   "metadata": {},
   "outputs": [
    {
     "data": {
      "text/plain": [
       "'Indra '"
      ]
     },
     "execution_count": 74,
     "metadata": {},
     "output_type": "execute_result"
    }
   ],
   "source": [
    "name[0:6]"
   ]
  },
  {
   "cell_type": "code",
   "execution_count": 76,
   "id": "dddb6986-8c9c-4144-ac10-95fb44f77ed6",
   "metadata": {},
   "outputs": [
    {
     "data": {
      "text/plain": [
       "'dra Ver'"
      ]
     },
     "execution_count": 76,
     "metadata": {},
     "output_type": "execute_result"
    }
   ],
   "source": [
    "name[2:9]"
   ]
  },
  {
   "cell_type": "code",
   "execution_count": 78,
   "id": "ab464bd2-4329-49d9-80b3-867348a05116",
   "metadata": {},
   "outputs": [],
   "source": [
    "#How to reverse?\n"
   ]
  },
  {
   "cell_type": "code",
   "execution_count": 80,
   "id": "cb458447-aaaf-4fba-b93f-052a3c460322",
   "metadata": {},
   "outputs": [
    {
     "data": {
      "text/plain": [
       "'a Verma'"
      ]
     },
     "execution_count": 80,
     "metadata": {},
     "output_type": "execute_result"
    }
   ],
   "source": [
    "name[4:90]"
   ]
  },
  {
   "cell_type": "code",
   "execution_count": 82,
   "id": "bf2d09e3-dcf0-4345-a946-5280692a2e27",
   "metadata": {},
   "outputs": [
    {
     "data": {
      "text/plain": [
       "''"
      ]
     },
     "execution_count": 82,
     "metadata": {},
     "output_type": "execute_result"
    }
   ],
   "source": [
    "name[90:2]"
   ]
  },
  {
   "cell_type": "code",
   "execution_count": 88,
   "id": "dabcace1-bc81-4f19-9dd8-d09880c99c74",
   "metadata": {},
   "outputs": [
    {
     "data": {
      "text/plain": [
       "'amreV ardn'"
      ]
     },
     "execution_count": 88,
     "metadata": {},
     "output_type": "execute_result"
    }
   ],
   "source": [
    "name[90:0:-1]"
   ]
  },
  {
   "cell_type": "code",
   "execution_count": 90,
   "id": "a228a3d8-8a7b-41aa-bec1-21f5a346450d",
   "metadata": {},
   "outputs": [
    {
     "data": {
      "text/plain": [
       "'Indra Verma'"
      ]
     },
     "execution_count": 90,
     "metadata": {},
     "output_type": "execute_result"
    }
   ],
   "source": [
    "name"
   ]
  },
  {
   "cell_type": "code",
   "execution_count": 92,
   "id": "2df9d463-a934-42cd-bbc5-7d0f5c464f7f",
   "metadata": {},
   "outputs": [],
   "source": [
    "# Print the reverse of your name"
   ]
  },
  {
   "cell_type": "code",
   "execution_count": null,
   "id": "6c79209f-b234-4f17-a102-23b256b39ec8",
   "metadata": {},
   "outputs": [],
   "source": []
  }
 ],
 "metadata": {
  "kernelspec": {
   "display_name": "Python 3 (ipykernel)",
   "language": "python",
   "name": "python3"
  },
  "language_info": {
   "codemirror_mode": {
    "name": "ipython",
    "version": 3
   },
   "file_extension": ".py",
   "mimetype": "text/x-python",
   "name": "python",
   "nbconvert_exporter": "python",
   "pygments_lexer": "ipython3",
   "version": "3.12.4"
  }
 },
 "nbformat": 4,
 "nbformat_minor": 5
}
