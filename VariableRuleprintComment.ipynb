{
 "cells": [
  {
   "cell_type": "code",
   "execution_count": 1,
   "id": "ecd0ec70-761c-4078-8120-cb133690374d",
   "metadata": {},
   "outputs": [
    {
     "ename": "SyntaxError",
     "evalue": "invalid syntax (3247533736.py, line 1)",
     "output_type": "error",
     "traceback": [
      "\u001b[1;36m  Cell \u001b[1;32mIn[1], line 1\u001b[1;36m\u001b[0m\n\u001b[1;33m    name@ = \"Ananya Singh\"\u001b[0m\n\u001b[1;37m          ^\u001b[0m\n\u001b[1;31mSyntaxError\u001b[0m\u001b[1;31m:\u001b[0m invalid syntax\n"
     ]
    }
   ],
   "source": [
    "name@ = \"Ananya Singh\""
   ]
  },
  {
   "cell_type": "code",
   "execution_count": 3,
   "id": "cc9fb1fa-5e92-4e07-9e07-2284db7d8b7a",
   "metadata": {},
   "outputs": [],
   "source": [
    "name_ = \"Ananya Singh\""
   ]
  },
  {
   "cell_type": "code",
   "execution_count": 5,
   "id": "b8d6ff1e-6227-44c2-820b-4230fff69898",
   "metadata": {},
   "outputs": [],
   "source": [
    "_ = \"Ananya Singh\""
   ]
  },
  {
   "cell_type": "code",
   "execution_count": 7,
   "id": "221fa09b-e5e0-4297-a59e-c039f3dfd55d",
   "metadata": {},
   "outputs": [
    {
     "ename": "SyntaxError",
     "evalue": "invalid syntax (3371262640.py, line 1)",
     "output_type": "error",
     "traceback": [
      "\u001b[1;36m  Cell \u001b[1;32mIn[7], line 1\u001b[1;36m\u001b[0m\n\u001b[1;33m    break  = \"Ananya Singh\"\u001b[0m\n\u001b[1;37m           ^\u001b[0m\n\u001b[1;31mSyntaxError\u001b[0m\u001b[1;31m:\u001b[0m invalid syntax\n"
     ]
    }
   ],
   "source": [
    "break  = \"Ananya Singh\""
   ]
  },
  {
   "cell_type": "code",
   "execution_count": 9,
   "id": "4d2a8275-3b95-4b0c-9d37-a3a7f1850912",
   "metadata": {},
   "outputs": [
    {
     "ename": "SyntaxError",
     "evalue": "cannot assign to literal here. Maybe you meant '==' instead of '='? (2881954805.py, line 1)",
     "output_type": "error",
     "traceback": [
      "\u001b[1;36m  Cell \u001b[1;32mIn[9], line 1\u001b[1;36m\u001b[0m\n\u001b[1;33m    50 = \"Ananya Singh\"\u001b[0m\n\u001b[1;37m    ^\u001b[0m\n\u001b[1;31mSyntaxError\u001b[0m\u001b[1;31m:\u001b[0m cannot assign to literal here. Maybe you meant '==' instead of '='?\n"
     ]
    }
   ],
   "source": [
    "50 = \"Ananya Singh\""
   ]
  },
  {
   "cell_type": "code",
   "execution_count": 11,
   "id": "44e55b25-bf16-48a9-8930-6959b86d084e",
   "metadata": {},
   "outputs": [],
   "source": [
    "Roll_no_50 = \"Ananya Singh\""
   ]
  },
  {
   "cell_type": "code",
   "execution_count": 13,
   "id": "2aefd99a-a254-44dd-869f-29d0c56b03e1",
   "metadata": {},
   "outputs": [
    {
     "data": {
      "text/plain": [
       "'Ananya Singh'"
      ]
     },
     "execution_count": 13,
     "metadata": {},
     "output_type": "execute_result"
    }
   ],
   "source": [
    "Roll_no_50"
   ]
  },
  {
   "cell_type": "code",
   "execution_count": 15,
   "id": "6f5128d0-ce48-48b7-8fe9-997a194a2205",
   "metadata": {},
   "outputs": [
    {
     "ename": "SyntaxError",
     "evalue": "cannot assign to True (3637146723.py, line 1)",
     "output_type": "error",
     "traceback": [
      "\u001b[1;36m  Cell \u001b[1;32mIn[15], line 1\u001b[1;36m\u001b[0m\n\u001b[1;33m    True = \"Ananya Singh\"\u001b[0m\n\u001b[1;37m    ^\u001b[0m\n\u001b[1;31mSyntaxError\u001b[0m\u001b[1;31m:\u001b[0m cannot assign to True\n"
     ]
    }
   ],
   "source": [
    "True = \"Ananya Singh\""
   ]
  },
  {
   "cell_type": "code",
   "execution_count": 19,
   "id": "e319316c-6ce8-460e-a89b-275256461861",
   "metadata": {},
   "outputs": [
    {
     "ename": "SyntaxError",
     "evalue": "invalid syntax (1605064336.py, line 1)",
     "output_type": "error",
     "traceback": [
      "\u001b[1;36m  Cell \u001b[1;32mIn[19], line 1\u001b[1;36m\u001b[0m\n\u001b[1;33m    na me = \"Ananya Singh\"\u001b[0m\n\u001b[1;37m       ^\u001b[0m\n\u001b[1;31mSyntaxError\u001b[0m\u001b[1;31m:\u001b[0m invalid syntax\n"
     ]
    }
   ],
   "source": [
    "na me = \"Ananya Singh\""
   ]
  },
  {
   "cell_type": "code",
   "execution_count": 21,
   "id": "69781f2e-1c95-4870-afb1-641d3d825aaf",
   "metadata": {},
   "outputs": [],
   "source": [
    "age = 30"
   ]
  },
  {
   "cell_type": "code",
   "execution_count": 23,
   "id": "b1da7179-dd80-47f7-853d-7a97ccf4bf51",
   "metadata": {},
   "outputs": [],
   "source": [
    "Age = 35"
   ]
  },
  {
   "cell_type": "code",
   "execution_count": 25,
   "id": "5e727c96-8735-4c52-8b34-3ebdeebde973",
   "metadata": {},
   "outputs": [
    {
     "data": {
      "text/plain": [
       "30"
      ]
     },
     "execution_count": 25,
     "metadata": {},
     "output_type": "execute_result"
    }
   ],
   "source": [
    "age"
   ]
  },
  {
   "cell_type": "code",
   "execution_count": 27,
   "id": "cee74c09-c89c-4cc2-8c7a-806e0cd030bd",
   "metadata": {},
   "outputs": [
    {
     "data": {
      "text/plain": [
       "35"
      ]
     },
     "execution_count": 27,
     "metadata": {},
     "output_type": "execute_result"
    }
   ],
   "source": [
    "Age"
   ]
  },
  {
   "cell_type": "code",
   "execution_count": 29,
   "id": "d7f23ccb-4b89-43e0-b567-0a6b55d49450",
   "metadata": {},
   "outputs": [
    {
     "ename": "SyntaxError",
     "evalue": "invalid decimal literal (1653991618.py, line 1)",
     "output_type": "error",
     "traceback": [
      "\u001b[1;36m  Cell \u001b[1;32mIn[29], line 1\u001b[1;36m\u001b[0m\n\u001b[1;33m    23name = \"Ananya Singh\"\u001b[0m\n\u001b[1;37m     ^\u001b[0m\n\u001b[1;31mSyntaxError\u001b[0m\u001b[1;31m:\u001b[0m invalid decimal literal\n"
     ]
    }
   ],
   "source": [
    "23name = \"Ananya Singh\""
   ]
  },
  {
   "cell_type": "code",
   "execution_count": 31,
   "id": "99ed7933-b434-4106-b90c-f458de622025",
   "metadata": {},
   "outputs": [],
   "source": [
    "name23 = \"Ananya Singh\""
   ]
  },
  {
   "cell_type": "code",
   "execution_count": 39,
   "id": "47591247-fa80-4789-afcb-72c09387939c",
   "metadata": {},
   "outputs": [],
   "source": [
    "a, b, c  = 23,67,45\n"
   ]
  },
  {
   "cell_type": "code",
   "execution_count": 35,
   "id": "4c984fe1-ba51-4faa-bd10-475011147cba",
   "metadata": {},
   "outputs": [
    {
     "data": {
      "text/plain": [
       "23"
      ]
     },
     "execution_count": 35,
     "metadata": {},
     "output_type": "execute_result"
    }
   ],
   "source": [
    "a"
   ]
  },
  {
   "cell_type": "code",
   "execution_count": 41,
   "id": "14ffac1e-05af-4e79-871c-090990210665",
   "metadata": {},
   "outputs": [
    {
     "name": "stdout",
     "output_type": "stream",
     "text": [
      "67\n"
     ]
    }
   ],
   "source": [
    "print(b)"
   ]
  },
  {
   "cell_type": "code",
   "execution_count": 43,
   "id": "80547a14-3ee1-43a3-9bf9-e6a319d8cf77",
   "metadata": {},
   "outputs": [
    {
     "name": "stdout",
     "output_type": "stream",
     "text": [
      "Bhimraj Lad\n"
     ]
    }
   ],
   "source": [
    "# Library function or in-built functions\n",
    "print(\"Bhimraj Lad\")\n"
   ]
  },
  {
   "cell_type": "code",
   "execution_count": 45,
   "id": "3ef70968-11c7-4054-a0e7-02cb21659418",
   "metadata": {},
   "outputs": [
    {
     "name": "stdout",
     "output_type": "stream",
     "text": [
      "23\n",
      "a\n"
     ]
    }
   ],
   "source": [
    "print(a)\n",
    "print(\"a\")"
   ]
  },
  {
   "cell_type": "code",
   "execution_count": 53,
   "id": "10882a3b-8807-4574-903e-7fb52afa4572",
   "metadata": {},
   "outputs": [
    {
     "name": "stdout",
     "output_type": "stream",
     "text": [
      "23 67 45\n"
     ]
    }
   ],
   "source": [
    "print(a,b,c)"
   ]
  },
  {
   "cell_type": "code",
   "execution_count": 57,
   "id": "5a3cf038-18fd-440c-b403-09c293feb533",
   "metadata": {},
   "outputs": [
    {
     "name": "stdout",
     "output_type": "stream",
     "text": [
      "23, 67, 45\n"
     ]
    }
   ],
   "source": [
    "# o/p--> 23, 67, 45\n",
    "print(23, 67,45, sep=', ' )"
   ]
  },
  {
   "cell_type": "code",
   "execution_count": 59,
   "id": "31c5c20b-8606-4528-b402-f67c0bdf1cb2",
   "metadata": {},
   "outputs": [
    {
     "name": "stdout",
     "output_type": "stream",
     "text": [
      "23, 67, 45\n"
     ]
    }
   ],
   "source": [
    "print(a,b,c, sep = \", \")"
   ]
  },
  {
   "cell_type": "code",
   "execution_count": 61,
   "id": "d84c0845-e210-4583-9e0a-ce933728bf51",
   "metadata": {},
   "outputs": [],
   "source": [
    "name = \"Bhimraj Lad\""
   ]
  },
  {
   "cell_type": "code",
   "execution_count": 63,
   "id": "0b179b10-c313-4694-9040-3e0ecf940622",
   "metadata": {},
   "outputs": [
    {
     "data": {
      "text/plain": [
       "str"
      ]
     },
     "execution_count": 63,
     "metadata": {},
     "output_type": "execute_result"
    }
   ],
   "source": [
    "type(name)"
   ]
  },
  {
   "cell_type": "code",
   "execution_count": 65,
   "id": "8469a277-27b0-444e-8778-6c838ab2a2d2",
   "metadata": {},
   "outputs": [],
   "source": [
    "name1 = 'Bhimraj Lad'"
   ]
  },
  {
   "cell_type": "code",
   "execution_count": 67,
   "id": "26bf8968-05f7-47e9-94ad-f7c61d3c49a7",
   "metadata": {},
   "outputs": [
    {
     "data": {
      "text/plain": [
       "str"
      ]
     },
     "execution_count": 67,
     "metadata": {},
     "output_type": "execute_result"
    }
   ],
   "source": [
    "type(name1)"
   ]
  },
  {
   "cell_type": "code",
   "execution_count": 69,
   "id": "dbf4cd32-cd62-4cb7-b55c-b99b79497be5",
   "metadata": {},
   "outputs": [],
   "source": [
    "name2 = \"\"\"Bhimraj Lad\"\"\""
   ]
  },
  {
   "cell_type": "code",
   "execution_count": 71,
   "id": "00d997f7-02d2-4b1f-9c86-91dfb45b648d",
   "metadata": {},
   "outputs": [
    {
     "data": {
      "text/plain": [
       "str"
      ]
     },
     "execution_count": 71,
     "metadata": {},
     "output_type": "execute_result"
    }
   ],
   "source": [
    "type(name2)"
   ]
  },
  {
   "cell_type": "code",
   "execution_count": 73,
   "id": "a9f182c6-a731-4046-b8bf-962bfebee636",
   "metadata": {},
   "outputs": [],
   "source": [
    "name3 = '''Bhimraj Lad'''"
   ]
  },
  {
   "cell_type": "code",
   "execution_count": 75,
   "id": "8b9fdee8-6bf3-47d7-8b85-e5df1193cfb7",
   "metadata": {},
   "outputs": [],
   "source": [
    "# single quote in string is allowed.\n",
    "# double quote in string is allowed\n",
    "\n",
    "\n",
    "\n"
   ]
  },
  {
   "cell_type": "code",
   "execution_count": 77,
   "id": "f7f8e860-d754-4195-9326-d5223c6598d3",
   "metadata": {},
   "outputs": [
    {
     "name": "stdout",
     "output_type": "stream",
     "text": [
      "Ananya Singh\n",
      "Bhimraj Lad\n"
     ]
    }
   ],
   "source": [
    "print(\"Ananya Singh\" )\n",
    "print(\"Bhimraj Lad\")"
   ]
  },
  {
   "cell_type": "code",
   "execution_count": 85,
   "id": "bfa1c192-eed2-40e0-a6db-4b38af8884c8",
   "metadata": {},
   "outputs": [
    {
     "name": "stdout",
     "output_type": "stream",
     "text": [
      "Ananya SinghAnanya Singh\tBhimraj Lad\n",
      "Bhimraj Lad\n"
     ]
    }
   ],
   "source": [
    "print(\"Ananya Singh\", end=\"\" )\n",
    "print(\"Ananya Singh\", end='\\t' )\n",
    "print(\"Bhimraj Lad\")\n",
    "print(\"Bhimraj Lad\")"
   ]
  },
  {
   "cell_type": "code",
   "execution_count": null,
   "id": "5c9506f5-0cbe-4c84-8600-ce2593319804",
   "metadata": {},
   "outputs": [],
   "source": []
  }
 ],
 "metadata": {
  "kernelspec": {
   "display_name": "Python 3 (ipykernel)",
   "language": "python",
   "name": "python3"
  },
  "language_info": {
   "codemirror_mode": {
    "name": "ipython",
    "version": 3
   },
   "file_extension": ".py",
   "mimetype": "text/x-python",
   "name": "python",
   "nbconvert_exporter": "python",
   "pygments_lexer": "ipython3",
   "version": "3.12.4"
  }
 },
 "nbformat": 4,
 "nbformat_minor": 5
}
