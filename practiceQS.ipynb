{
 "cells": [
  {
   "cell_type": "raw",
   "id": "afe2b596-2dd2-4e3d-8082-61b8c611cbda",
   "metadata": {},
   "source": [
    "s = \"this is My First Python programming class and i am learNING python string and its function\"\n",
    "1 . Try to extract data from index one to index 300 with a jump of 3 \n",
    "2. Try to reverse a string without using reverse function \n",
    "3. Try to split a string after conversion of entire string in uppercase \n",
    "4. try to convert the whole string into lower case \n",
    "5 . Try to capitalize the whole string \n",
    "6 . Write a diference between isalnum() and isalpha()\n",
    "7. Try to give an example of expand tab\n",
    "8 . Give an example of strip , lstrip and rstrip \n",
    "9.  Replace a string charecter by another charector by taking your own example \n",
    "\"Your Name\"\n",
    "10 . Try  to give a defination of string center function with and exmple \n",
    "11 . Write your own definition of compiler and interpretor without copy paste form internet in your own language\n",
    "12 . Python is a interpreted of compiled language give a clear ans with your understanding \n",
    "13 . Try to write a usecase of python with your understanding ."
   ]
  },
  {
   "cell_type": "code",
   "execution_count": 13,
   "id": "995a965e-96fe-484f-86b7-c7b3b0dc464d",
   "metadata": {},
   "outputs": [],
   "source": [
    "s = \"this is My First Python programming class and i am learNING python string and its function\""
   ]
  },
  {
   "cell_type": "markdown",
   "id": "93b7712e-e463-44a1-8c55-6e48dee9cddc",
   "metadata": {},
   "source": [
    "# 1 . Try to extract data from index one to index 300 with a jump of 3 "
   ]
  },
  {
   "cell_type": "code",
   "execution_count": 34,
   "id": "7f8e0cb9-4c15-4761-a55d-2d638b6bd753",
   "metadata": {},
   "outputs": [
    {
     "data": {
      "text/plain": [
       "'h   r tnrrmglsnimeNGyosi dtfco'"
      ]
     },
     "execution_count": 34,
     "metadata": {},
     "output_type": "execute_result"
    }
   ],
   "source": [
    "s[1:301:3]"
   ]
  },
  {
   "cell_type": "code",
   "execution_count": 36,
   "id": "60bf9c11-120d-4d52-9f16-e38b5be8a669",
   "metadata": {},
   "outputs": [],
   "source": [
    "s1 = \"We are learning problem solving using computation\""
   ]
  },
  {
   "cell_type": "code",
   "execution_count": 48,
   "id": "a36acfed-efd6-477e-902c-8ad66091aed8",
   "metadata": {},
   "outputs": [
    {
     "data": {
      "text/plain": [
       "'eaela'"
      ]
     },
     "execution_count": 48,
     "metadata": {},
     "output_type": "execute_result"
    }
   ],
   "source": [
    "# Extract data from 1 to 10 with a jump of 2\n",
    "s1[1:11:2]"
   ]
  },
  {
   "cell_type": "markdown",
   "id": "a41f90ca-7ea5-498d-b754-e7ea3f2f3be8",
   "metadata": {},
   "source": [
    "# 2. Try to reverse a string without using reverse function "
   ]
  },
  {
   "cell_type": "code",
   "execution_count": 52,
   "id": "08b54771-4e7b-4201-affb-9fe98eb68921",
   "metadata": {},
   "outputs": [
    {
     "data": {
      "text/plain": [
       "'noitcnuf sti dna gnirts nohtyp GNINrael ma i dna ssalc gnimmargorp nohtyP tsriF yM si siht'"
      ]
     },
     "execution_count": 52,
     "metadata": {},
     "output_type": "execute_result"
    }
   ],
   "source": [
    "s[::-1]"
   ]
  },
  {
   "cell_type": "markdown",
   "id": "bebd26e8-315b-4378-a4d1-972661566f17",
   "metadata": {},
   "source": [
    "# Try to split a string after conversion of entire string in uppercase "
   ]
  },
  {
   "cell_type": "code",
   "execution_count": 57,
   "id": "1114c0d4-c589-4cc7-9886-4df3c851bb08",
   "metadata": {},
   "outputs": [
    {
     "data": {
      "text/plain": [
       "['THIS',\n",
       " 'IS',\n",
       " 'MY',\n",
       " 'FIRST',\n",
       " 'PYTHON',\n",
       " 'PROGRAMMING',\n",
       " 'CLASS',\n",
       " 'AND',\n",
       " 'I',\n",
       " 'AM',\n",
       " 'LEARNING',\n",
       " 'PYTHON',\n",
       " 'STRING',\n",
       " 'AND',\n",
       " 'ITS',\n",
       " 'FUNCTION']"
      ]
     },
     "execution_count": 57,
     "metadata": {},
     "output_type": "execute_result"
    }
   ],
   "source": [
    "# Method 1\n",
    "s1 = s.upper()\n",
    "s1.split()"
   ]
  },
  {
   "cell_type": "code",
   "execution_count": null,
   "id": "cc685de8-0aff-49fa-96fc-301b7e0b4bc7",
   "metadata": {},
   "outputs": [],
   "source": [
    "# Method 2"
   ]
  },
  {
   "cell_type": "code",
   "execution_count": 60,
   "id": "45e04595-c22f-404c-9b6d-bfc21aa52880",
   "metadata": {},
   "outputs": [
    {
     "data": {
      "text/plain": [
       "['THIS',\n",
       " 'IS',\n",
       " 'MY',\n",
       " 'FIRST',\n",
       " 'PYTHON',\n",
       " 'PROGRAMMING',\n",
       " 'CLASS',\n",
       " 'AND',\n",
       " 'I',\n",
       " 'AM',\n",
       " 'LEARNING',\n",
       " 'PYTHON',\n",
       " 'STRING',\n",
       " 'AND',\n",
       " 'ITS',\n",
       " 'FUNCTION']"
      ]
     },
     "execution_count": 60,
     "metadata": {},
     "output_type": "execute_result"
    }
   ],
   "source": [
    "s.upper().split()"
   ]
  },
  {
   "cell_type": "markdown",
   "id": "4e186970-6fa1-4703-8716-defe4eb23cc4",
   "metadata": {},
   "source": [
    "# try to convert the whole string into lower case "
   ]
  },
  {
   "cell_type": "code",
   "execution_count": 63,
   "id": "2862a8ea-65c6-4065-b2cb-dc19a37616e2",
   "metadata": {},
   "outputs": [
    {
     "data": {
      "text/plain": [
       "'this is my first python programming class and i am learning python string and its function'"
      ]
     },
     "execution_count": 63,
     "metadata": {},
     "output_type": "execute_result"
    }
   ],
   "source": [
    "s.lower()"
   ]
  },
  {
   "cell_type": "markdown",
   "id": "70c7c739-af97-4c84-bf0c-978a24d49a70",
   "metadata": {},
   "source": [
    "# Try to capitalize the whole string "
   ]
  },
  {
   "cell_type": "code",
   "execution_count": 66,
   "id": "3fe71ec3-ad50-486b-bb9c-d3e866284f97",
   "metadata": {},
   "outputs": [
    {
     "data": {
      "text/plain": [
       "'This is my first python programming class and i am learning python string and its function'"
      ]
     },
     "execution_count": 66,
     "metadata": {},
     "output_type": "execute_result"
    }
   ],
   "source": [
    "s.capitalize()"
   ]
  },
  {
   "cell_type": "markdown",
   "id": "fdc92653-66ad-4eab-bb65-fda3bbddf9dd",
   "metadata": {},
   "source": [
    "# 6 . Write a diference between isalnum() and isalpha()"
   ]
  },
  {
   "cell_type": "markdown",
   "id": "079023b4-142f-4f37-a5a1-427909e4c39a",
   "metadata": {},
   "source": [
    "## isalpha gives the value as True if all the characters in the string are alphabets and isalnum gives True if all the characters in the string are either alphabets and numbers"
   ]
  },
  {
   "cell_type": "code",
   "execution_count": 71,
   "id": "37c56ff0-0b8c-48a7-8d7c-8018873c652f",
   "metadata": {},
   "outputs": [],
   "source": [
    "# for example"
   ]
  },
  {
   "cell_type": "code",
   "execution_count": 88,
   "id": "fd16cc37-7dd5-49e9-8722-d93e20c92cc1",
   "metadata": {},
   "outputs": [],
   "source": [
    "test=\"abcde\"\n",
    "test1=\"ab2cd3&^%^%$\"\n",
    "test3 = 635724"
   ]
  },
  {
   "cell_type": "code",
   "execution_count": 90,
   "id": "8ba72952-8f7b-49e8-848c-ba5437af2772",
   "metadata": {},
   "outputs": [
    {
     "data": {
      "text/plain": [
       "True"
      ]
     },
     "execution_count": 90,
     "metadata": {},
     "output_type": "execute_result"
    }
   ],
   "source": [
    "test.isalpha()"
   ]
  },
  {
   "cell_type": "code",
   "execution_count": 79,
   "id": "e029a1c2-1084-4dd9-8931-88a7aed0495e",
   "metadata": {},
   "outputs": [
    {
     "data": {
      "text/plain": [
       "True"
      ]
     },
     "execution_count": 79,
     "metadata": {},
     "output_type": "execute_result"
    }
   ],
   "source": [
    "test.isalnum()"
   ]
  },
  {
   "cell_type": "code",
   "execution_count": 92,
   "id": "f45c16e1-bd8e-4974-a06e-454b646d5fde",
   "metadata": {},
   "outputs": [
    {
     "data": {
      "text/plain": [
       "False"
      ]
     },
     "execution_count": 92,
     "metadata": {},
     "output_type": "execute_result"
    }
   ],
   "source": [
    "test1.isalpha()"
   ]
  },
  {
   "cell_type": "code",
   "execution_count": 94,
   "id": "b8dec048-3ac4-4553-920e-f818e34563e1",
   "metadata": {},
   "outputs": [
    {
     "data": {
      "text/plain": [
       "False"
      ]
     },
     "execution_count": 94,
     "metadata": {},
     "output_type": "execute_result"
    }
   ],
   "source": [
    "test1.isalnum()"
   ]
  },
  {
   "cell_type": "code",
   "execution_count": 98,
   "id": "67a0ecca-bc05-458a-b83f-ad01870cc338",
   "metadata": {},
   "outputs": [
    {
     "ename": "AttributeError",
     "evalue": "'int' object has no attribute 'isalpha'",
     "output_type": "error",
     "traceback": [
      "\u001b[1;31m---------------------------------------------------------------------------\u001b[0m",
      "\u001b[1;31mAttributeError\u001b[0m                            Traceback (most recent call last)",
      "Cell \u001b[1;32mIn[98], line 1\u001b[0m\n\u001b[1;32m----> 1\u001b[0m test3\u001b[38;5;241m.\u001b[39misalpha()\n",
      "\u001b[1;31mAttributeError\u001b[0m: 'int' object has no attribute 'isalpha'"
     ]
    }
   ],
   "source": [
    "test3.isalpha()"
   ]
  },
  {
   "cell_type": "code",
   "execution_count": 100,
   "id": "018e6357-77df-4d78-9c69-293829efe59b",
   "metadata": {},
   "outputs": [
    {
     "ename": "AttributeError",
     "evalue": "'int' object has no attribute 'isalnum'",
     "output_type": "error",
     "traceback": [
      "\u001b[1;31m---------------------------------------------------------------------------\u001b[0m",
      "\u001b[1;31mAttributeError\u001b[0m                            Traceback (most recent call last)",
      "Cell \u001b[1;32mIn[100], line 1\u001b[0m\n\u001b[1;32m----> 1\u001b[0m test3\u001b[38;5;241m.\u001b[39misalnum()\n",
      "\u001b[1;31mAttributeError\u001b[0m: 'int' object has no attribute 'isalnum'"
     ]
    }
   ],
   "source": [
    "test3.isalnum()"
   ]
  },
  {
   "cell_type": "markdown",
   "id": "066187f5-d044-4304-8816-c744416c90f9",
   "metadata": {},
   "source": [
    "# Try to give an example of expand tab"
   ]
  },
  {
   "cell_type": "code",
   "execution_count": 123,
   "id": "9f8115b6-ab8c-4363-a56f-0ae1b68abb7c",
   "metadata": {},
   "outputs": [],
   "source": [
    "exp=\"This\\tis\\ta\\texample\""
   ]
  },
  {
   "cell_type": "code",
   "execution_count": 131,
   "id": "bfb2c5fc-1155-4c2e-9fd9-0d05478469e6",
   "metadata": {
    "scrolled": true
   },
   "outputs": [
    {
     "data": {
      "text/plain": [
       "'This    is      a       example'"
      ]
     },
     "execution_count": 131,
     "metadata": {},
     "output_type": "execute_result"
    }
   ],
   "source": [
    "exp.expandtabs()"
   ]
  },
  {
   "cell_type": "code",
   "execution_count": 133,
   "id": "ed997f52-7f24-4a2f-bb11-24dd96db4161",
   "metadata": {},
   "outputs": [
    {
     "data": {
      "text/plain": [
       "'This  is  a example'"
      ]
     },
     "execution_count": 133,
     "metadata": {},
     "output_type": "execute_result"
    }
   ],
   "source": [
    "exp.expandtabs(2)"
   ]
  },
  {
   "cell_type": "code",
   "execution_count": 135,
   "id": "d37a98e2-3085-4941-9a64-b3ef0cb0a654",
   "metadata": {},
   "outputs": [
    {
     "data": {
      "text/plain": [
       "'This  is a  example'"
      ]
     },
     "execution_count": 135,
     "metadata": {},
     "output_type": "execute_result"
    }
   ],
   "source": [
    "exp.expandtabs(3)"
   ]
  },
  {
   "cell_type": "markdown",
   "id": "6f5f7cd6-f987-4df3-b7df-8097688455de",
   "metadata": {},
   "source": [
    "# Give an example of strip , lstrip and rstrip "
   ]
  },
  {
   "cell_type": "code",
   "execution_count": 143,
   "id": "2626dc7b-4e7e-4625-8563-826a2004ebd7",
   "metadata": {},
   "outputs": [
    {
     "data": {
      "text/plain": [
       "'hey!! ayush'"
      ]
     },
     "execution_count": 143,
     "metadata": {},
     "output_type": "execute_result"
    }
   ],
   "source": [
    "#1 example of strip:\n",
    "a= \"@@@22@hey!! ayush@2@@@\"\n",
    "a.strip(\"@2\") # removes all @2only from the right side"
   ]
  },
  {
   "cell_type": "code",
   "execution_count": 145,
   "id": "3928e756-b9f2-4381-8a18-e20d304b99ce",
   "metadata": {},
   "outputs": [
    {
     "data": {
      "text/plain": [
       "'hey!! ayush@2@@@'"
      ]
     },
     "execution_count": 145,
     "metadata": {},
     "output_type": "execute_result"
    }
   ],
   "source": [
    "#2 example of lstrip:\n",
    "a1=\"@@@22@hey!! ayush@2@@@\"\n",
    "a1. lstrip(\"@2\") # removes all @2 only from the left side"
   ]
  },
  {
   "cell_type": "code",
   "execution_count": 149,
   "id": "6df858ae-355f-417f-93e1-b9c3c2a91010",
   "metadata": {},
   "outputs": [
    {
     "data": {
      "text/plain": [
       "'@@@22hey!! ayush'"
      ]
     },
     "execution_count": 149,
     "metadata": {},
     "output_type": "execute_result"
    }
   ],
   "source": [
    "#3 example of rstrip:\n",
    "a2= \"@@@22hey!! ayush@2@@@\"\n",
    "a2. rstrip(\"@2\") # removes all @2 only from the right side"
   ]
  },
  {
   "cell_type": "code",
   "execution_count": null,
   "id": "5565301d-5d5c-40de-9520-a8494c4cbd4c",
   "metadata": {},
   "outputs": [],
   "source": []
  }
 ],
 "metadata": {
  "kernelspec": {
   "display_name": "Python 3 (ipykernel)",
   "language": "python",
   "name": "python3"
  },
  "language_info": {
   "codemirror_mode": {
    "name": "ipython",
    "version": 3
   },
   "file_extension": ".py",
   "mimetype": "text/x-python",
   "name": "python",
   "nbconvert_exporter": "python",
   "pygments_lexer": "ipython3",
   "version": "3.12.4"
  }
 },
 "nbformat": 4,
 "nbformat_minor": 5
}
