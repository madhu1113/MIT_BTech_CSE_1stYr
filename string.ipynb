{
 "cells": [
  {
   "cell_type": "code",
   "execution_count": 2,
   "id": "dae733c6-6270-4417-9fa7-8fb751479146",
   "metadata": {},
   "outputs": [],
   "source": [
    "a = True"
   ]
  },
  {
   "cell_type": "code",
   "execution_count": 4,
   "id": "7e00af74-4180-4d93-ae09-c04825fa7e8d",
   "metadata": {},
   "outputs": [
    {
     "data": {
      "text/plain": [
       "True"
      ]
     },
     "execution_count": 4,
     "metadata": {},
     "output_type": "execute_result"
    }
   ],
   "source": [
    "a\n"
   ]
  },
  {
   "cell_type": "code",
   "execution_count": 6,
   "id": "4a383d7c-03e8-4aa9-8577-65a013c7d73e",
   "metadata": {},
   "outputs": [
    {
     "data": {
      "text/plain": [
       "bool"
      ]
     },
     "execution_count": 6,
     "metadata": {},
     "output_type": "execute_result"
    }
   ],
   "source": [
    "type(a)"
   ]
  },
  {
   "cell_type": "code",
   "execution_count": 8,
   "id": "cbc24783-c345-4cb8-9245-103440f0698d",
   "metadata": {},
   "outputs": [],
   "source": [
    "name = \"Onkar Amane\""
   ]
  },
  {
   "cell_type": "code",
   "execution_count": 10,
   "id": "8339c1a3-920a-4bb0-aa8d-6255f7da1739",
   "metadata": {},
   "outputs": [
    {
     "data": {
      "text/plain": [
       "'Onkar Amane'"
      ]
     },
     "execution_count": 10,
     "metadata": {},
     "output_type": "execute_result"
    }
   ],
   "source": [
    "name"
   ]
  },
  {
   "cell_type": "code",
   "execution_count": 14,
   "id": "200325c0-489b-4615-80c8-f1015ae0ef30",
   "metadata": {},
   "outputs": [
    {
     "data": {
      "text/plain": [
       "'A'"
      ]
     },
     "execution_count": 14,
     "metadata": {},
     "output_type": "execute_result"
    }
   ],
   "source": [
    "name[6]"
   ]
  },
  {
   "cell_type": "code",
   "execution_count": 18,
   "id": "9d3c5978-9728-4959-8eda-c2cbe2036fad",
   "metadata": {},
   "outputs": [
    {
     "data": {
      "text/plain": [
       "'enamA raknO'"
      ]
     },
     "execution_count": 18,
     "metadata": {},
     "output_type": "execute_result"
    }
   ],
   "source": [
    "name[10::-1]"
   ]
  },
  {
   "cell_type": "code",
   "execution_count": 20,
   "id": "b24a9107-3094-41b6-a38b-dc40d7936c8a",
   "metadata": {},
   "outputs": [],
   "source": [
    "name = \"Namokar Kasture\""
   ]
  },
  {
   "cell_type": "code",
   "execution_count": 32,
   "id": "01d42f6a",
   "metadata": {},
   "outputs": [],
   "source": [
    "name = \"Namokar Kasture\""
   ]
  },
  {
   "cell_type": "code",
   "execution_count": 40,
   "id": "ed1391c9-3fae-4390-9c86-943a572dfa57",
   "metadata": {},
   "outputs": [
    {
     "data": {
      "text/plain": [
       "'erutsaK rak'"
      ]
     },
     "execution_count": 40,
     "metadata": {},
     "output_type": "execute_result"
    }
   ],
   "source": [
    "name[-1:3:-1]"
   ]
  },
  {
   "cell_type": "code",
   "execution_count": 22,
   "id": "b64dcec7-3603-485c-bebd-6ce2b599f78d",
   "metadata": {},
   "outputs": [],
   "source": [
    "text = \"Lorem Ipsum is simply dummy text of the printing and typesetting industry. Lorem Ipsum has been the industry's standard dummy text ever since the 1500s, when an unknown printer took a galley of type and scrambled it to make a type specimen book. It has survived not only five centuries, but also the leap into electronic typesetting, remaining essentially unchanged. It was popularised in the 1960s with the release of Letraset sheets containing Lorem Ipsum passages, and more recently with desktop publishing software like Aldus PageMaker including versions of Lorem Ipsum\""
   ]
  },
  {
   "cell_type": "code",
   "execution_count": 28,
   "id": "cc6cce2a-a6f1-4311-a9e0-e4dcedebc26a",
   "metadata": {},
   "outputs": [
    {
     "data": {
      "text/plain": [
       "\"Lorem Ipsum is simply dummy text of the printing and typesetting industry. Lorem Ipsum has been the industry's standard dummy text ever since the 1500s, when an unknown printer took a galley of type and scrambled it to make a type specimen book. It has survived not only five centuries, but also the leap into electronic typesetting, remaining essentially unchanged. It was popularised in the 1960s with the release of Letraset sheets containing Lorem Ipsum passages, and more recently with desktop publishing software like Aldus PageMaker including versions of Lorem Ipsum\""
      ]
     },
     "execution_count": 28,
     "metadata": {},
     "output_type": "execute_result"
    }
   ],
   "source": [
    "text"
   ]
  },
  {
   "cell_type": "code",
   "execution_count": 30,
   "id": "2aef5490-d7ed-4a47-ae08-39dbd6c98061",
   "metadata": {},
   "outputs": [
    {
     "data": {
      "text/plain": [
       "\"muspI meroL fo snoisrev gnidulcni rekaMegaP sudlA ekil erawtfos gnihsilbup potksed htiw yltnecer erom dna ,segassap muspI meroL gniniatnoc steehs tesarteL fo esaeler eht htiw s0691 eht ni desiralupop saw tI .degnahcnu yllaitnesse gniniamer ,gnittesepyt cinortcele otni pael eht osla tub ,seirutnec evif ylno ton devivrus sah tI .koob nemiceps epyt a ekam ot ti delbmarcs dna epyt fo yellag a koot retnirp nwonknu na nehw ,s0051 eht ecnis reve txet ymmud dradnats s'yrtsudni eht neeb sah muspI meroL .yrtsudni gnittesepyt dna gnitnirp eht fo txet ymmud ylpmis si muspI meroL\""
      ]
     },
     "execution_count": 30,
     "metadata": {},
     "output_type": "execute_result"
    }
   ],
   "source": [
    "text[::-1]"
   ]
  },
  {
   "cell_type": "code",
   "execution_count": 46,
   "id": "ca5aff4a-b3ad-41a8-86c7-ea27b6c755b3",
   "metadata": {},
   "outputs": [],
   "source": [
    "S = \"Gauhar\""
   ]
  },
  {
   "cell_type": "code",
   "execution_count": 50,
   "id": "54507b76-929d-4031-af44-80696a3c233d",
   "metadata": {},
   "outputs": [
    {
     "data": {
      "text/plain": [
       "'Gauhar'"
      ]
     },
     "execution_count": 50,
     "metadata": {},
     "output_type": "execute_result"
    }
   ],
   "source": [
    "S"
   ]
  },
  {
   "cell_type": "code",
   "execution_count": 52,
   "id": "97729c75-1c1c-4b1d-a8b9-36a1743b448c",
   "metadata": {},
   "outputs": [],
   "source": [
    "# Gauhar510"
   ]
  },
  {
   "cell_type": "code",
   "execution_count": 58,
   "id": "aaf82eea-523e-4cae-8dad-f8bae43f47df",
   "metadata": {},
   "outputs": [
    {
     "ename": "TypeError",
     "evalue": "can only concatenate str (not \"int\") to str",
     "output_type": "error",
     "traceback": [
      "\u001b[1;31m---------------------------------------------------------------------------\u001b[0m",
      "\u001b[1;31mTypeError\u001b[0m                                 Traceback (most recent call last)",
      "Cell \u001b[1;32mIn[58], line 1\u001b[0m\n\u001b[1;32m----> 1\u001b[0m S\u001b[38;5;241m+\u001b[39m\u001b[38;5;241m510\u001b[39m\n",
      "\u001b[1;31mTypeError\u001b[0m: can only concatenate str (not \"int\") to str"
     ]
    }
   ],
   "source": [
    "S+510"
   ]
  },
  {
   "cell_type": "code",
   "execution_count": 60,
   "id": "49396342-ec02-4c5e-811a-02920828e93d",
   "metadata": {},
   "outputs": [
    {
     "data": {
      "text/plain": [
       "'Gauhar510'"
      ]
     },
     "execution_count": 60,
     "metadata": {},
     "output_type": "execute_result"
    }
   ],
   "source": [
    "S+'510'"
   ]
  },
  {
   "cell_type": "code",
   "execution_count": 62,
   "id": "c74322ec-8064-4b02-98fa-1528b3e99068",
   "metadata": {},
   "outputs": [
    {
     "data": {
      "text/plain": [
       "'Gauhar510'"
      ]
     },
     "execution_count": 62,
     "metadata": {},
     "output_type": "execute_result"
    }
   ],
   "source": [
    "S+str(510)"
   ]
  },
  {
   "cell_type": "code",
   "execution_count": 70,
   "id": "6c7b3be7-803d-48d6-96a6-a69600469290",
   "metadata": {},
   "outputs": [
    {
     "data": {
      "text/plain": [
       "'Gauharkdjbcvksjdbvkljsd765674765'"
      ]
     },
     "execution_count": 70,
     "metadata": {},
     "output_type": "execute_result"
    }
   ],
   "source": [
    "S+str('kdjbcvksjdbvkljsd765674765')"
   ]
  },
  {
   "cell_type": "code",
   "execution_count": 72,
   "id": "f35b4624-1d9b-4956-9ec0-25b6815ca36a",
   "metadata": {},
   "outputs": [
    {
     "data": {
      "text/plain": [
       "'Gauhar'"
      ]
     },
     "execution_count": 72,
     "metadata": {},
     "output_type": "execute_result"
    }
   ],
   "source": [
    "S"
   ]
  },
  {
   "cell_type": "code",
   "execution_count": 74,
   "id": "305fbdab-25b7-456c-9fae-0870915d4c11",
   "metadata": {},
   "outputs": [
    {
     "data": {
      "text/plain": [
       "6"
      ]
     },
     "execution_count": 74,
     "metadata": {},
     "output_type": "execute_result"
    }
   ],
   "source": [
    "len(S)"
   ]
  },
  {
   "cell_type": "code",
   "execution_count": 84,
   "id": "44f6d701-761c-480f-b75d-52a3e0959336",
   "metadata": {},
   "outputs": [
    {
     "data": {
      "text/plain": [
       "'GauharGauharGauharGauharGauhar'"
      ]
     },
     "execution_count": 84,
     "metadata": {},
     "output_type": "execute_result"
    }
   ],
   "source": [
    "S*5 # repeat 5 times"
   ]
  },
  {
   "cell_type": "code",
   "execution_count": 86,
   "id": "b3965130-7354-4f60-9f67-f64a3f696d58",
   "metadata": {},
   "outputs": [
    {
     "data": {
      "text/plain": [
       "'Gauhar'"
      ]
     },
     "execution_count": 86,
     "metadata": {},
     "output_type": "execute_result"
    }
   ],
   "source": [
    "S"
   ]
  },
  {
   "cell_type": "code",
   "execution_count": 88,
   "id": "25f44230-640d-4ae4-9146-2be1acdfa619",
   "metadata": {},
   "outputs": [
    {
     "data": {
      "text/plain": [
       "1"
      ]
     },
     "execution_count": 88,
     "metadata": {},
     "output_type": "execute_result"
    }
   ],
   "source": [
    "S.count('au') # counts the no. of string in S"
   ]
  },
  {
   "cell_type": "code",
   "execution_count": 90,
   "id": "dcf88542-acfc-41bf-b8a9-53e21119e387",
   "metadata": {},
   "outputs": [
    {
     "data": {
      "text/plain": [
       "['Ga', 'har']"
      ]
     },
     "execution_count": 90,
     "metadata": {},
     "output_type": "execute_result"
    }
   ],
   "source": [
    "S.split('u')"
   ]
  },
  {
   "cell_type": "code",
   "execution_count": 92,
   "id": "0c209d30-6b33-4802-bdaf-f84d766875fa",
   "metadata": {},
   "outputs": [
    {
     "data": {
      "text/plain": [
       "list"
      ]
     },
     "execution_count": 92,
     "metadata": {},
     "output_type": "execute_result"
    }
   ],
   "source": [
    "type(S.split('u'))"
   ]
  },
  {
   "cell_type": "code",
   "execution_count": 94,
   "id": "dc476fcf-0679-4acf-9ada-67086850a730",
   "metadata": {},
   "outputs": [],
   "source": [
    "lorem = \"Lorem Ipsum is simply dummy text of the printing and typesetting industry. Lorem Ipsum has been the industry's standard dummy text ever since the 1500s, when an unknown printer took a galley of type and scrambled it to make a type specimen book. It has survived not only five centuries, but also the leap into electronic typesetting, remaining essentially unchanged. It was popularised in the 1960s with the release of Letraset sheets containing Lorem Ipsum passages, and more recently with desktop publishing software like Aldus PageMaker including versions of Lorem Ipsum.\""
   ]
  },
  {
   "cell_type": "code",
   "execution_count": 96,
   "id": "0a95f8f0-8cfb-4552-96fa-9db4f274014a",
   "metadata": {},
   "outputs": [
    {
     "data": {
      "text/plain": [
       "\"Lorem Ipsum is simply dummy text of the printing and typesetting industry. Lorem Ipsum has been the industry's standard dummy text ever since the 1500s, when an unknown printer took a galley of type and scrambled it to make a type specimen book. It has survived not only five centuries, but also the leap into electronic typesetting, remaining essentially unchanged. It was popularised in the 1960s with the release of Letraset sheets containing Lorem Ipsum passages, and more recently with desktop publishing software like Aldus PageMaker including versions of Lorem Ipsum.\""
      ]
     },
     "execution_count": 96,
     "metadata": {},
     "output_type": "execute_result"
    }
   ],
   "source": [
    "lorem"
   ]
  },
  {
   "cell_type": "code",
   "execution_count": 100,
   "id": "cf5d7469-0381-4f6d-8b1f-e627b1e4a916",
   "metadata": {},
   "outputs": [
    {
     "data": {
      "text/plain": [
       "['Lorem',\n",
       " 'Ipsum',\n",
       " 'is',\n",
       " 'simply',\n",
       " 'dummy',\n",
       " 'text',\n",
       " 'of',\n",
       " 'the',\n",
       " 'printing',\n",
       " 'and',\n",
       " 'typesetting',\n",
       " 'industry.',\n",
       " 'Lorem',\n",
       " 'Ipsum',\n",
       " 'has',\n",
       " 'been',\n",
       " 'the',\n",
       " \"industry's\",\n",
       " 'standard',\n",
       " 'dummy',\n",
       " 'text',\n",
       " 'ever',\n",
       " 'since',\n",
       " 'the',\n",
       " '1500s,',\n",
       " 'when',\n",
       " 'an',\n",
       " 'unknown',\n",
       " 'printer',\n",
       " 'took',\n",
       " 'a',\n",
       " 'galley',\n",
       " 'of',\n",
       " 'type',\n",
       " 'and',\n",
       " 'scrambled',\n",
       " 'it',\n",
       " 'to',\n",
       " 'make',\n",
       " 'a',\n",
       " 'type',\n",
       " 'specimen',\n",
       " 'book.',\n",
       " 'It',\n",
       " 'has',\n",
       " 'survived',\n",
       " 'not',\n",
       " 'only',\n",
       " 'five',\n",
       " 'centuries,',\n",
       " 'but',\n",
       " 'also',\n",
       " 'the',\n",
       " 'leap',\n",
       " 'into',\n",
       " 'electronic',\n",
       " 'typesetting,',\n",
       " 'remaining',\n",
       " 'essentially',\n",
       " 'unchanged.',\n",
       " 'It',\n",
       " 'was',\n",
       " 'popularised',\n",
       " 'in',\n",
       " 'the',\n",
       " '1960s',\n",
       " 'with',\n",
       " 'the',\n",
       " 'release',\n",
       " 'of',\n",
       " 'Letraset',\n",
       " 'sheets',\n",
       " 'containing',\n",
       " 'Lorem',\n",
       " 'Ipsum',\n",
       " 'passages,',\n",
       " 'and',\n",
       " 'more',\n",
       " 'recently',\n",
       " 'with',\n",
       " 'desktop',\n",
       " 'publishing',\n",
       " 'software',\n",
       " 'like',\n",
       " 'Aldus',\n",
       " 'PageMaker',\n",
       " 'including',\n",
       " 'versions',\n",
       " 'of',\n",
       " 'Lorem',\n",
       " 'Ipsum.']"
      ]
     },
     "execution_count": 100,
     "metadata": {},
     "output_type": "execute_result"
    }
   ],
   "source": [
    "lorem.split(' ')"
   ]
  },
  {
   "cell_type": "code",
   "execution_count": 104,
   "id": "1214ed82-68cd-417c-b8c7-6d77454b3e30",
   "metadata": {},
   "outputs": [
    {
     "data": {
      "text/plain": [
       "4"
      ]
     },
     "execution_count": 104,
     "metadata": {},
     "output_type": "execute_result"
    }
   ],
   "source": [
    "lorem.count('Lorem')"
   ]
  },
  {
   "cell_type": "code",
   "execution_count": 108,
   "id": "364aaa99-99e9-41ac-b213-139ceab11c0c",
   "metadata": {},
   "outputs": [
    {
     "data": {
      "text/plain": [
       "3"
      ]
     },
     "execution_count": 108,
     "metadata": {},
     "output_type": "execute_result"
    }
   ],
   "source": [
    "lorem.split(' ').count('Ipsum')"
   ]
  },
  {
   "cell_type": "code",
   "execution_count": 110,
   "id": "3221ae5f-9100-47c5-9ddd-312a3e2022e9",
   "metadata": {},
   "outputs": [
    {
     "data": {
      "text/plain": [
       "\"Lorem Ipsum is simply dummy text of the printing and typesetting industry. Lorem Ipsum has been the industry's standard dummy text ever since the 1500s, when an unknown printer took a galley of type and scrambled it to make a type specimen book. It has survived not only five centuries, but also the leap into electronic typesetting, remaining essentially unchanged. It was popularised in the 1960s with the release of Letraset sheets containing Lorem Ipsum passages, and more recently with desktop publishing software like Aldus PageMaker including versions of Lorem Ipsum.\""
      ]
     },
     "execution_count": 110,
     "metadata": {},
     "output_type": "execute_result"
    }
   ],
   "source": [
    "lorem"
   ]
  },
  {
   "cell_type": "code",
   "execution_count": 116,
   "id": "cd19999f-90fb-4f43-bab5-9822a891cc55",
   "metadata": {},
   "outputs": [],
   "source": [
    "# convert lorem into capslock\n",
    "lorem = lorem.upper()"
   ]
  },
  {
   "cell_type": "code",
   "execution_count": 118,
   "id": "f65aee73-75c0-417f-8a30-fa503809c731",
   "metadata": {},
   "outputs": [
    {
     "data": {
      "text/plain": [
       "\"LOREM IPSUM IS SIMPLY DUMMY TEXT OF THE PRINTING AND TYPESETTING INDUSTRY. LOREM IPSUM HAS BEEN THE INDUSTRY'S STANDARD DUMMY TEXT EVER SINCE THE 1500S, WHEN AN UNKNOWN PRINTER TOOK A GALLEY OF TYPE AND SCRAMBLED IT TO MAKE A TYPE SPECIMEN BOOK. IT HAS SURVIVED NOT ONLY FIVE CENTURIES, BUT ALSO THE LEAP INTO ELECTRONIC TYPESETTING, REMAINING ESSENTIALLY UNCHANGED. IT WAS POPULARISED IN THE 1960S WITH THE RELEASE OF LETRASET SHEETS CONTAINING LOREM IPSUM PASSAGES, AND MORE RECENTLY WITH DESKTOP PUBLISHING SOFTWARE LIKE ALDUS PAGEMAKER INCLUDING VERSIONS OF LOREM IPSUM.\""
      ]
     },
     "execution_count": 118,
     "metadata": {},
     "output_type": "execute_result"
    }
   ],
   "source": [
    "lorem"
   ]
  },
  {
   "cell_type": "code",
   "execution_count": 120,
   "id": "8e755fa2-31fa-47a2-bedd-682ea524defc",
   "metadata": {},
   "outputs": [
    {
     "data": {
      "text/plain": [
       "\"lorem ipsum is simply dummy text of the printing and typesetting industry. lorem ipsum has been the industry's standard dummy text ever since the 1500s, when an unknown printer took a galley of type and scrambled it to make a type specimen book. it has survived not only five centuries, but also the leap into electronic typesetting, remaining essentially unchanged. it was popularised in the 1960s with the release of letraset sheets containing lorem ipsum passages, and more recently with desktop publishing software like aldus pagemaker including versions of lorem ipsum.\""
      ]
     },
     "execution_count": 120,
     "metadata": {},
     "output_type": "execute_result"
    }
   ],
   "source": [
    "lorem.lower()"
   ]
  },
  {
   "cell_type": "code",
   "execution_count": 132,
   "id": "a50d4c45-4357-4e77-acda-f69aa44b291f",
   "metadata": {},
   "outputs": [],
   "source": [
    "name = \"sankalp mudkanna\""
   ]
  },
  {
   "cell_type": "code",
   "execution_count": 134,
   "id": "1961a6fa-b064-48de-9f52-50cda6c1d7ef",
   "metadata": {},
   "outputs": [
    {
     "data": {
      "text/plain": [
       "'Sankalp Mudkanna'"
      ]
     },
     "execution_count": 134,
     "metadata": {},
     "output_type": "execute_result"
    }
   ],
   "source": [
    "name.title() #after space capital letter"
   ]
  },
  {
   "cell_type": "code",
   "execution_count": 136,
   "id": "e6f32b2b-f23d-4fa1-ab26-62fb6e71f06c",
   "metadata": {},
   "outputs": [
    {
     "data": {
      "text/plain": [
       "'Sankalp mudkanna'"
      ]
     },
     "execution_count": 136,
     "metadata": {},
     "output_type": "execute_result"
    }
   ],
   "source": [
    "name.capitalize()"
   ]
  },
  {
   "cell_type": "code",
   "execution_count": 140,
   "id": "f536f940-9d23-43be-bc77-6802c66132fa",
   "metadata": {},
   "outputs": [],
   "source": [
    "name = \"sANKalp mUDKanna\""
   ]
  },
  {
   "cell_type": "markdown",
   "id": "27164049-31d6-492c-9db1-51e8883179c3",
   "metadata": {},
   "source": [
    "name\n"
   ]
  },
  {
   "cell_type": "code",
   "execution_count": 143,
   "id": "f99117a6-946c-4b25-aa76-01dd867ab2a4",
   "metadata": {},
   "outputs": [
    {
     "data": {
      "text/plain": [
       "'sANKalp mUDKanna'"
      ]
     },
     "execution_count": 143,
     "metadata": {},
     "output_type": "execute_result"
    }
   ],
   "source": [
    "name"
   ]
  },
  {
   "cell_type": "code",
   "execution_count": 145,
   "id": "7a3c40f0-b6bd-40dd-b652-c0db9be8f6fb",
   "metadata": {},
   "outputs": [
    {
     "data": {
      "text/plain": [
       "'SankALP MudkANNA'"
      ]
     },
     "execution_count": 145,
     "metadata": {},
     "output_type": "execute_result"
    }
   ],
   "source": [
    "name.swapcase()"
   ]
  },
  {
   "cell_type": "code",
   "execution_count": 147,
   "id": "833be79e-acb0-4011-abd4-67c740f03c53",
   "metadata": {},
   "outputs": [],
   "source": [
    "name = \"     sankalp mudkanna       \""
   ]
  },
  {
   "cell_type": "code",
   "execution_count": 149,
   "id": "2166c432-4617-43a5-9850-785be684b8e7",
   "metadata": {},
   "outputs": [
    {
     "data": {
      "text/plain": [
       "'sankalp mudkanna'"
      ]
     },
     "execution_count": 149,
     "metadata": {},
     "output_type": "execute_result"
    }
   ],
   "source": [
    "name.strip()"
   ]
  },
  {
   "cell_type": "code",
   "execution_count": 151,
   "id": "10b558c9-3073-4bc6-bb32-b32a8a8f9710",
   "metadata": {},
   "outputs": [
    {
     "data": {
      "text/plain": [
       "'sankalp mudkanna       '"
      ]
     },
     "execution_count": 151,
     "metadata": {},
     "output_type": "execute_result"
    }
   ],
   "source": [
    "name.lstrip()"
   ]
  },
  {
   "cell_type": "code",
   "execution_count": 153,
   "id": "cb957c98-4f92-44da-bfc4-74646d403417",
   "metadata": {},
   "outputs": [
    {
     "data": {
      "text/plain": [
       "'     sankalp mudkanna'"
      ]
     },
     "execution_count": 153,
     "metadata": {},
     "output_type": "execute_result"
    }
   ],
   "source": [
    "name.rstrip()"
   ]
  },
  {
   "cell_type": "code",
   "execution_count": 159,
   "id": "c2ed7f3d-dfe7-4a09-b0a3-d3a657be9367",
   "metadata": {},
   "outputs": [
    {
     "data": {
      "text/plain": [
       "'     sankalp mudkanna       '"
      ]
     },
     "execution_count": 159,
     "metadata": {},
     "output_type": "execute_result"
    }
   ],
   "source": [
    "name"
   ]
  },
  {
   "cell_type": "code",
   "execution_count": 157,
   "id": "ef3acd77-1743-4074-a825-3219c5fb897c",
   "metadata": {},
   "outputs": [
    {
     "data": {
      "text/plain": [
       "'#########     sankalp mudkanna       ########'"
      ]
     },
     "execution_count": 157,
     "metadata": {},
     "output_type": "execute_result"
    }
   ],
   "source": [
    "name.center(45, '#')"
   ]
  },
  {
   "cell_type": "code",
   "execution_count": 161,
   "id": "cdd9dd1f-e467-4665-bf52-70b38b7be501",
   "metadata": {},
   "outputs": [
    {
     "data": {
      "text/plain": [
       "True"
      ]
     },
     "execution_count": 161,
     "metadata": {},
     "output_type": "execute_result"
    }
   ],
   "source": [
    "name.islower()"
   ]
  },
  {
   "cell_type": "code",
   "execution_count": 163,
   "id": "7e5113b8-b6ff-4445-9b08-63305f3f2402",
   "metadata": {},
   "outputs": [
    {
     "data": {
      "text/plain": [
       "False"
      ]
     },
     "execution_count": 163,
     "metadata": {},
     "output_type": "execute_result"
    }
   ],
   "source": [
    "name.isspace()"
   ]
  },
  {
   "cell_type": "code",
   "execution_count": 165,
   "id": "b85beee2-82ea-41ca-ae99-377af5005083",
   "metadata": {},
   "outputs": [],
   "source": [
    "s = \" \""
   ]
  },
  {
   "cell_type": "code",
   "execution_count": 167,
   "id": "7ed2e572-eaf5-4a2c-ac65-13f2a5b16d67",
   "metadata": {},
   "outputs": [
    {
     "data": {
      "text/plain": [
       "True"
      ]
     },
     "execution_count": 167,
     "metadata": {},
     "output_type": "execute_result"
    }
   ],
   "source": [
    "s.isspace()"
   ]
  },
  {
   "cell_type": "code",
   "execution_count": 169,
   "id": "1f701f8b-9818-4ca9-a228-d9a61383c9c0",
   "metadata": {},
   "outputs": [],
   "source": [
    "d = \"8475834653\""
   ]
  },
  {
   "cell_type": "code",
   "execution_count": 171,
   "id": "6bc4d47a-a803-46c6-9ed7-4136748465d5",
   "metadata": {},
   "outputs": [
    {
     "data": {
      "text/plain": [
       "True"
      ]
     },
     "execution_count": 171,
     "metadata": {},
     "output_type": "execute_result"
    }
   ],
   "source": [
    "d.isdigit()"
   ]
  },
  {
   "cell_type": "code",
   "execution_count": 175,
   "id": "ef5d99ae-e59f-448e-9bfb-5c66c033b036",
   "metadata": {},
   "outputs": [
    {
     "data": {
      "text/plain": [
       "False"
      ]
     },
     "execution_count": 175,
     "metadata": {},
     "output_type": "execute_result"
    }
   ],
   "source": [
    "d.isalpha()"
   ]
  },
  {
   "cell_type": "code",
   "execution_count": 177,
   "id": "b566d8e1-5c85-4470-b8b2-d9625d7c59d6",
   "metadata": {},
   "outputs": [],
   "source": [
    "a = \"sdnksj435345\""
   ]
  },
  {
   "cell_type": "code",
   "execution_count": 179,
   "id": "6aa40274-ce18-459b-a4ec-cbaec78c303a",
   "metadata": {},
   "outputs": [
    {
     "data": {
      "text/plain": [
       "False"
      ]
     },
     "execution_count": 179,
     "metadata": {},
     "output_type": "execute_result"
    }
   ],
   "source": [
    "a.isalpha()"
   ]
  },
  {
   "cell_type": "code",
   "execution_count": null,
   "id": "02eb3b5c-018c-4bad-bcd4-80cc6c05d5c4",
   "metadata": {},
   "outputs": [],
   "source": []
  }
 ],
 "metadata": {
  "kernelspec": {
   "display_name": "Python 3 (ipykernel)",
   "language": "python",
   "name": "python3"
  },
  "language_info": {
   "codemirror_mode": {
    "name": "ipython",
    "version": 3
   },
   "file_extension": ".py",
   "mimetype": "text/x-python",
   "name": "python",
   "nbconvert_exporter": "python",
   "pygments_lexer": "ipython3",
   "version": "3.12.4"
  }
 },
 "nbformat": 4,
 "nbformat_minor": 5
}
