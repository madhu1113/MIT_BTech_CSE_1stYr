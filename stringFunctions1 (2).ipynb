{
 "cells": [
  {
   "cell_type": "code",
   "execution_count": 1,
   "id": "dc7b23e2-836a-4f88-ba83-58275a0f777f",
   "metadata": {},
   "outputs": [],
   "source": [
    "name =  \"FardEEn ahMED\""
   ]
  },
  {
   "cell_type": "code",
   "execution_count": 3,
   "id": "bd45b5a8-b0b9-41bd-bd93-fc71130861af",
   "metadata": {},
   "outputs": [
    {
     "data": {
      "text/plain": [
       "'fARDeeN AHmed'"
      ]
     },
     "execution_count": 3,
     "metadata": {},
     "output_type": "execute_result"
    }
   ],
   "source": [
    "# convert capital to small and small to Capital\n",
    "name.swapcase()"
   ]
  },
  {
   "cell_type": "code",
   "execution_count": 5,
   "id": "ed5070e3-cbb8-4e40-8d83-2a52410f94a5",
   "metadata": {},
   "outputs": [
    {
     "data": {
      "text/plain": [
       "'FardEEn ahMED'"
      ]
     },
     "execution_count": 5,
     "metadata": {},
     "output_type": "execute_result"
    }
   ],
   "source": [
    "name"
   ]
  },
  {
   "cell_type": "code",
   "execution_count": 15,
   "id": "d60a3bcc-06a9-43ad-aed0-9dad86a4da3c",
   "metadata": {},
   "outputs": [
    {
     "data": {
      "text/plain": [
       "'F@a@r@d@E@E@n@ @a@h@M@E@D'"
      ]
     },
     "execution_count": 15,
     "metadata": {},
     "output_type": "execute_result"
    }
   ],
   "source": [
    "# 'F@a@r@d@E@E@n@ @a@h@M@E@D'\n",
    "'@'.join(name)"
   ]
  },
  {
   "cell_type": "code",
   "execution_count": 17,
   "id": "171cb2ae-00f6-4d2a-bcd0-b703c363b8b8",
   "metadata": {},
   "outputs": [],
   "source": [
    "name1 = \"    Tanushree  Jadhav    \""
   ]
  },
  {
   "cell_type": "code",
   "execution_count": 19,
   "id": "0e5af2a8-b595-4683-878e-006ddbcfcadd",
   "metadata": {},
   "outputs": [],
   "source": [
    "d = 4534523"
   ]
  },
  {
   "cell_type": "code",
   "execution_count": 21,
   "id": "994ac5fd-35d4-43df-abf8-e9eb2438d83c",
   "metadata": {},
   "outputs": [
    {
     "data": {
      "text/plain": [
       "True"
      ]
     },
     "execution_count": 21,
     "metadata": {},
     "output_type": "execute_result"
    }
   ],
   "source": [
    "d.is_integer()"
   ]
  },
  {
   "cell_type": "code",
   "execution_count": 27,
   "id": "c9ad6b31-5186-4592-bb37-a293ed490b87",
   "metadata": {},
   "outputs": [],
   "source": [
    "name1 = \"TanushreeJadhav\""
   ]
  },
  {
   "cell_type": "code",
   "execution_count": 29,
   "id": "910e4ea3-ebaa-4a4b-af85-dc4f0d3233f0",
   "metadata": {},
   "outputs": [
    {
     "data": {
      "text/plain": [
       "True"
      ]
     },
     "execution_count": 29,
     "metadata": {},
     "output_type": "execute_result"
    }
   ],
   "source": [
    "name1.isalpha()"
   ]
  },
  {
   "cell_type": "code",
   "execution_count": 31,
   "id": "12fc802b-0dd7-467f-9ff4-d4fe808464f7",
   "metadata": {},
   "outputs": [
    {
     "data": {
      "text/plain": [
       "True"
      ]
     },
     "execution_count": 31,
     "metadata": {},
     "output_type": "execute_result"
    }
   ],
   "source": [
    "name1.isalnum()"
   ]
  },
  {
   "cell_type": "code",
   "execution_count": 35,
   "id": "3d9507cd-7e58-40db-acda-5821f6e15620",
   "metadata": {},
   "outputs": [
    {
     "data": {
      "text/plain": [
       "True"
      ]
     },
     "execution_count": 35,
     "metadata": {},
     "output_type": "execute_result"
    }
   ],
   "source": [
    "name1.startswith('T')"
   ]
  },
  {
   "cell_type": "code",
   "execution_count": 37,
   "id": "4b98fc8e-55fd-45b6-8754-e4c300f311c2",
   "metadata": {},
   "outputs": [
    {
     "data": {
      "text/plain": [
       "'TanushreeJadhav'"
      ]
     },
     "execution_count": 37,
     "metadata": {},
     "output_type": "execute_result"
    }
   ],
   "source": [
    "name1"
   ]
  },
  {
   "cell_type": "code",
   "execution_count": 39,
   "id": "9e17249a-b517-4e17-83f6-5269e2db7df1",
   "metadata": {},
   "outputs": [
    {
     "data": {
      "text/plain": [
       "<reversed at 0x26d3fd6f9a0>"
      ]
     },
     "execution_count": 39,
     "metadata": {},
     "output_type": "execute_result"
    }
   ],
   "source": [
    "reversed(name1)"
   ]
  },
  {
   "cell_type": "code",
   "execution_count": 41,
   "id": "b300f914-7ac6-494e-b059-b0397efa6395",
   "metadata": {},
   "outputs": [
    {
     "data": {
      "text/plain": [
       "'vahdaJeerhsunaT'"
      ]
     },
     "execution_count": 41,
     "metadata": {},
     "output_type": "execute_result"
    }
   ],
   "source": [
    "\"\".join(reversed(name1))"
   ]
  },
  {
   "cell_type": "code",
   "execution_count": null,
   "id": "a9777315-8401-4d66-b8f0-6ca667c3a8a0",
   "metadata": {},
   "outputs": [],
   "source": [
    "s = \"this is My First Python programming class and i am learNING python string and its function\"\n",
    "1 . Try to extract data from index one to index 300 with a jump of 3 \n",
    "2. Try to reverse a string without using reverse function \n",
    "3. Try to split a string after conversion of entire string in uppercase \n",
    "4. try to convert the whole string into lower case \n",
    "5 . Try to capitalize the whole string \n",
    "6 . Write a diference between isalnum() and isalpha()\n",
    "7. Try to give an example of expand tab\n",
    "8 . Give an example of strip , lstrip and rstrip \n",
    "9.  Replace a string charecter by another charector by taking your own example \n",
    "\"Your Name\"\n",
    "10 . Try  to give a defination of string center function with and exmple \n",
    "11 . Write your own definition of compiler and interpretor without copy paste form internet in your own language\n",
    "12 . Python is a interpreted of compiled language give a clear ans with your understanding \n",
    "13 . Try to write a usecase of python with your understanding .\n",
    "\n",
    "# 5th oct is the deadline submit it on before 11:59"
   ]
  }
 ],
 "metadata": {
  "kernelspec": {
   "display_name": "Python 3 (ipykernel)",
   "language": "python",
   "name": "python3"
  },
  "language_info": {
   "codemirror_mode": {
    "name": "ipython",
    "version": 3
   },
   "file_extension": ".py",
   "mimetype": "text/x-python",
   "name": "python",
   "nbconvert_exporter": "python",
   "pygments_lexer": "ipython3",
   "version": "3.12.4"
  }
 },
 "nbformat": 4,
 "nbformat_minor": 5
}
